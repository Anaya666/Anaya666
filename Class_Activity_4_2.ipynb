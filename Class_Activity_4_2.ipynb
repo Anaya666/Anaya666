{
  "nbformat": 4,
  "nbformat_minor": 0,
  "metadata": {
    "colab": {
      "provenance": [],
      "include_colab_link": true
    },
    "kernelspec": {
      "name": "python3",
      "display_name": "Python 3"
    },
    "language_info": {
      "name": "python"
    }
  },
  "cells": [
    {
      "cell_type": "markdown",
      "metadata": {
        "id": "view-in-github",
        "colab_type": "text"
      },
      "source": [
        "<a href=\"https://colab.research.google.com/github/Anaya666/Anaya666/blob/main/Class_Activity_4_2.ipynb\" target=\"_parent\"><img src=\"https://colab.research.google.com/assets/colab-badge.svg\" alt=\"Open In Colab\"/></a>"
      ]
    },
    {
      "cell_type": "markdown",
      "source": [
        "Inclass Activity - Thomas Cusick, Anaya Nath, Zoe Hendershot"
      ],
      "metadata": {
        "id": "1pUYE8ErKiCR"
      }
    },
    {
      "cell_type": "code",
      "source": [
        "pip install dash"
      ],
      "metadata": {
        "colab": {
          "base_uri": "https://localhost:8080/"
        },
        "id": "JdlCQYlVL82s",
        "outputId": "23ab959b-a2dd-417c-b62b-fd8ec32ef4b7"
      },
      "execution_count": null,
      "outputs": [
        {
          "output_type": "stream",
          "name": "stdout",
          "text": [
            "Requirement already satisfied: dash in /usr/local/lib/python3.11/dist-packages (3.0.2)\n",
            "Requirement already satisfied: Flask<3.1,>=1.0.4 in /usr/local/lib/python3.11/dist-packages (from dash) (3.0.3)\n",
            "Requirement already satisfied: Werkzeug<3.1 in /usr/local/lib/python3.11/dist-packages (from dash) (3.0.6)\n",
            "Requirement already satisfied: plotly>=5.0.0 in /usr/local/lib/python3.11/dist-packages (from dash) (5.24.1)\n",
            "Requirement already satisfied: importlib-metadata in /usr/local/lib/python3.11/dist-packages (from dash) (8.6.1)\n",
            "Requirement already satisfied: typing-extensions>=4.1.1 in /usr/local/lib/python3.11/dist-packages (from dash) (4.13.0)\n",
            "Requirement already satisfied: requests in /usr/local/lib/python3.11/dist-packages (from dash) (2.32.3)\n",
            "Requirement already satisfied: retrying in /usr/local/lib/python3.11/dist-packages (from dash) (1.3.4)\n",
            "Requirement already satisfied: nest-asyncio in /usr/local/lib/python3.11/dist-packages (from dash) (1.6.0)\n",
            "Requirement already satisfied: setuptools in /usr/local/lib/python3.11/dist-packages (from dash) (75.2.0)\n",
            "Requirement already satisfied: Jinja2>=3.1.2 in /usr/local/lib/python3.11/dist-packages (from Flask<3.1,>=1.0.4->dash) (3.1.6)\n",
            "Requirement already satisfied: itsdangerous>=2.1.2 in /usr/local/lib/python3.11/dist-packages (from Flask<3.1,>=1.0.4->dash) (2.2.0)\n",
            "Requirement already satisfied: click>=8.1.3 in /usr/local/lib/python3.11/dist-packages (from Flask<3.1,>=1.0.4->dash) (8.1.8)\n",
            "Requirement already satisfied: blinker>=1.6.2 in /usr/local/lib/python3.11/dist-packages (from Flask<3.1,>=1.0.4->dash) (1.9.0)\n",
            "Requirement already satisfied: tenacity>=6.2.0 in /usr/local/lib/python3.11/dist-packages (from plotly>=5.0.0->dash) (9.0.0)\n",
            "Requirement already satisfied: packaging in /usr/local/lib/python3.11/dist-packages (from plotly>=5.0.0->dash) (24.2)\n",
            "Requirement already satisfied: MarkupSafe>=2.1.1 in /usr/local/lib/python3.11/dist-packages (from Werkzeug<3.1->dash) (3.0.2)\n",
            "Requirement already satisfied: zipp>=3.20 in /usr/local/lib/python3.11/dist-packages (from importlib-metadata->dash) (3.21.0)\n",
            "Requirement already satisfied: charset-normalizer<4,>=2 in /usr/local/lib/python3.11/dist-packages (from requests->dash) (3.4.1)\n",
            "Requirement already satisfied: idna<4,>=2.5 in /usr/local/lib/python3.11/dist-packages (from requests->dash) (3.10)\n",
            "Requirement already satisfied: urllib3<3,>=1.21.1 in /usr/local/lib/python3.11/dist-packages (from requests->dash) (2.3.0)\n",
            "Requirement already satisfied: certifi>=2017.4.17 in /usr/local/lib/python3.11/dist-packages (from requests->dash) (2025.1.31)\n",
            "Requirement already satisfied: six>=1.7.0 in /usr/local/lib/python3.11/dist-packages (from retrying->dash) (1.17.0)\n"
          ]
        }
      ]
    },
    {
      "cell_type": "code",
      "execution_count": 10,
      "metadata": {
        "id": "ARN5GO23KZrS"
      },
      "outputs": [],
      "source": [
        "import numpy as np\n",
        "import pandas as pd\n",
        "import plotly.express as px\n",
        "import dash\n",
        "from dash import Dash, dcc, html, Input, Output"
      ]
    },
    {
      "cell_type": "code",
      "source": [
        "guns_data = pd.read_csv(\"Guns.csv\")\n",
        "print(guns_data.head())"
      ],
      "metadata": {
        "colab": {
          "base_uri": "https://localhost:8080/"
        },
        "id": "a1lqjRJeK-Ez",
        "outputId": "e9dcf0f9-25f1-4245-cccc-7854e074b702"
      },
      "execution_count": 11,
      "outputs": [
        {
          "output_type": "stream",
          "name": "stdout",
          "text": [
            "   rownames  year  violent  murder  robbery  prisoners      afam      cauc  \\\n",
            "0         1  1977    414.4    14.2     96.8         83  8.384873  55.12291   \n",
            "1         2  1978    419.1    13.3     99.1         94  8.352101  55.14367   \n",
            "2         3  1979    413.3    13.2    109.5        144  8.329575  55.13586   \n",
            "3         4  1980    448.5    13.2    132.1        141  8.408386  54.91259   \n",
            "4         5  1981    470.5    11.9    126.5        149  8.483435  54.92513   \n",
            "\n",
            "       male  population    income   density state law  \n",
            "0  18.17441    3.780403  9563.148  0.074552    AL  no  \n",
            "1  17.99408    3.831838  9932.000  0.075567    AL  no  \n",
            "2  17.83934    3.866248  9877.028  0.076245    AL  no  \n",
            "3  17.73420    3.900368  9541.428  0.076829    AL  no  \n",
            "4  17.67372    3.918531  9548.351  0.077187    AL  no  \n"
          ]
        }
      ]
    },
    {
      "cell_type": "code",
      "source": [
        "# App setup\n",
        "app = Dash()\n",
        "app.title = \"Gun Laws and Crime Rates\"\n",
        "\n",
        "min_year = guns_data['year'].min()\n",
        "max_year = guns_data['year'].max()\n",
        "\n",
        "# Layout\n",
        "app.layout = html.Div([\n",
        "    html.H1(\"Crime Data Dashboard\"),\n",
        "html.Div([\n",
        "    html.Label(\"Carry Law\"),\n",
        "    dcc.Dropdown(\n",
        "        id=\"law_selector\",\n",
        "        options=[\n",
        "            {\"label\": \"Yes\", \"value\": 'yes'},\n",
        "            {\"label\": \"No\", \"value\": 'no'},\n",
        "        ],\n",
        "        value=\"yes\"\n",
        "    )\n",
        "]),\n",
        "\n",
        "    html.Div([\n",
        "        html.Label(\"Crime Type\"),\n",
        "        dcc.Dropdown(\n",
        "            id=\"crime_selector\",\n",
        "            options=[\n",
        "                {\"label\": \"Violent\", \"value\": \"violent\"},\n",
        "                {\"label\": \"Murder\", \"value\": \"murder\"},\n",
        "                {\"label\": \"Robbery\", \"value\": \"robbery\"},\n",
        "            ],\n",
        "            value=\"violent\",\n",
        "            clearable=False\n",
        "        )\n",
        "    ]),\n",
        "\n",
        "    html.Div([\n",
        "        html.Label(\"Select Year\"),\n",
        "        dcc.Slider(\n",
        "            id=\"year_slider\",\n",
        "            min=min_year,\n",
        "            max=max_year,\n",
        "            value=min_year,\n",
        "            step=1,\n",
        "            marks={str(year): str(year) for year in range(min_year, max_year + 1, 2)}\n",
        "        )\n",
        "    ], style={\"padding\": \"20px\"}),\n",
        "\n",
        "    dcc.Graph(id=\"crime_map\")\n",
        "])\n",
        "\n",
        "# Callback\n",
        "@app.callback(\n",
        "    Output(\"crime_map\", \"figure\"),\n",
        "    Input(\"law_selector\", \"value\"),\n",
        "    Input(\"crime_selector\", \"value\"),\n",
        "    Input(\"year_slider\", \"value\")\n",
        ")\n",
        "def update_map(selected_law, selected_crime, selected_year):\n",
        "    filtered_df = guns_data[\n",
        "        (guns_data[\"law\"] == selected_law) &\n",
        "        (guns_data[\"year\"] == selected_year)\n",
        "    ]\n",
        "\n",
        "    fig = px.choropleth(\n",
        "        filtered_df,\n",
        "        locations=\"state\",\n",
        "        locationmode=\"USA-states\",\n",
        "        color=selected_crime,\n",
        "        hover_name=\"state\",\n",
        "        color_continuous_scale=\"Viridis\",\n",
        "        scope=\"usa\",\n",
        "        title=f\"{selected_crime.title()} Crime Rates in {selected_year}\"\n",
        "    )\n",
        "    return fig\n",
        "\n",
        "# Run the app\n",
        "if __name__ == '__main__':\n",
        "    app.run(debug=True)"
      ],
      "metadata": {
        "colab": {
          "base_uri": "https://localhost:8080/",
          "height": 671
        },
        "id": "xbod6PPsOrhS",
        "outputId": "33a10746-3791-4265-bea6-de9845371142"
      },
      "execution_count": 26,
      "outputs": [
        {
          "output_type": "display_data",
          "data": {
            "text/plain": [
              "<IPython.core.display.Javascript object>"
            ],
            "application/javascript": [
              "(async (port, path, width, height, cache, element) => {\n",
              "    if (!google.colab.kernel.accessAllowed && !cache) {\n",
              "      return;\n",
              "    }\n",
              "    element.appendChild(document.createTextNode(''));\n",
              "    const url = await google.colab.kernel.proxyPort(port, {cache});\n",
              "    const iframe = document.createElement('iframe');\n",
              "    iframe.src = new URL(path, url).toString();\n",
              "    iframe.height = height;\n",
              "    iframe.width = width;\n",
              "    iframe.style.border = 0;\n",
              "    iframe.allow = [\n",
              "        'accelerometer',\n",
              "        'autoplay',\n",
              "        'camera',\n",
              "        'clipboard-read',\n",
              "        'clipboard-write',\n",
              "        'gyroscope',\n",
              "        'magnetometer',\n",
              "        'microphone',\n",
              "        'serial',\n",
              "        'usb',\n",
              "        'xr-spatial-tracking',\n",
              "    ].join('; ');\n",
              "    element.appendChild(iframe);\n",
              "  })(8050, \"/\", \"100%\", 650, false, window.element)"
            ]
          },
          "metadata": {}
        }
      ]
    }
  ]
}