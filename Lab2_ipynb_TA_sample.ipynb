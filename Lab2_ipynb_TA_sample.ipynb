{
  "nbformat": 4,
  "nbformat_minor": 0,
  "metadata": {
    "colab": {
      "provenance": [],
      "toc_visible": true,
      "include_colab_link": true
    },
    "kernelspec": {
      "name": "python3",
      "display_name": "Python 3"
    },
    "language_info": {
      "name": "python"
    }
  },
  "cells": [
    {
      "cell_type": "markdown",
      "metadata": {
        "id": "view-in-github",
        "colab_type": "text"
      },
      "source": [
        "<a href=\"https://colab.research.google.com/github/Anaya666/Anaya666/blob/main/Lab2_ipynb_TA_sample.ipynb\" target=\"_parent\"><img src=\"https://colab.research.google.com/assets/colab-badge.svg\" alt=\"Open In Colab\"/></a>"
      ]
    },
    {
      "cell_type": "markdown",
      "source": [
        "# Lab 2 (1/24/25)\n"
      ],
      "metadata": {
        "id": "FeHOEnnoRsTM"
      }
    },
    {
      "cell_type": "markdown",
      "source": [
        "## K-Means Clustering\n",
        "\n",
        "Useful Textbook (K-Means Clustering Section): https://www.statlearning.com/\n",
        "\n"
      ],
      "metadata": {
        "id": "UlKo0UQSup0m"
      }
    },
    {
      "cell_type": "code",
      "source": [
        "import numpy as np\n",
        "import pandas as pd\n",
        "from numpy import linalg as LA\n",
        "import matplotlib.pyplot as plt"
      ],
      "metadata": {
        "id": "7jQFCQOHR_cr"
      },
      "execution_count": 4,
      "outputs": []
    },
    {
      "cell_type": "code",
      "source": [
        "df = pd.read_csv('https://raw.githubusercontent.com/MMiDS-textbook/MMiDS-textbook.github.io/refs/heads/main/utils/datasets/penguins-measurements.csv')\n",
        "df = df.dropna()\n",
        "\n",
        "####### TEMPLATE #######\n",
        "# drop all rows with na values\n",
        "#df = _______"
      ],
      "metadata": {
        "id": "JHJN-7PyUPCs"
      },
      "execution_count": 5,
      "outputs": []
    },
    {
      "cell_type": "code",
      "source": [
        "df.head()\n",
        "\n",
        "####### TEMPLATE #######\n",
        "# print the first 5 rows of the dataframe\n",
        "#df._____"
      ],
      "metadata": {
        "colab": {
          "base_uri": "https://localhost:8080/",
          "height": 204
        },
        "id": "EzBt02jFSvPx",
        "outputId": "195fd316-e2cc-4cbc-b71a-225697f502f4"
      },
      "execution_count": 6,
      "outputs": [
        {
          "output_type": "execute_result",
          "data": {
            "text/plain": [
              "   bill_length_mm  bill_depth_mm  flipper_length_mm  body_mass_g\n",
              "0            39.1           18.7              181.0       3750.0\n",
              "1            39.5           17.4              186.0       3800.0\n",
              "2            40.3           18.0              195.0       3250.0\n",
              "4            36.7           19.3              193.0       3450.0\n",
              "5            39.3           20.6              190.0       3650.0"
            ],
            "text/html": [
              "\n",
              "  <div id=\"df-815865f1-159e-4c4c-95b0-54822181a6fc\" class=\"colab-df-container\">\n",
              "    <div>\n",
              "<style scoped>\n",
              "    .dataframe tbody tr th:only-of-type {\n",
              "        vertical-align: middle;\n",
              "    }\n",
              "\n",
              "    .dataframe tbody tr th {\n",
              "        vertical-align: top;\n",
              "    }\n",
              "\n",
              "    .dataframe thead th {\n",
              "        text-align: right;\n",
              "    }\n",
              "</style>\n",
              "<table border=\"1\" class=\"dataframe\">\n",
              "  <thead>\n",
              "    <tr style=\"text-align: right;\">\n",
              "      <th></th>\n",
              "      <th>bill_length_mm</th>\n",
              "      <th>bill_depth_mm</th>\n",
              "      <th>flipper_length_mm</th>\n",
              "      <th>body_mass_g</th>\n",
              "    </tr>\n",
              "  </thead>\n",
              "  <tbody>\n",
              "    <tr>\n",
              "      <th>0</th>\n",
              "      <td>39.1</td>\n",
              "      <td>18.7</td>\n",
              "      <td>181.0</td>\n",
              "      <td>3750.0</td>\n",
              "    </tr>\n",
              "    <tr>\n",
              "      <th>1</th>\n",
              "      <td>39.5</td>\n",
              "      <td>17.4</td>\n",
              "      <td>186.0</td>\n",
              "      <td>3800.0</td>\n",
              "    </tr>\n",
              "    <tr>\n",
              "      <th>2</th>\n",
              "      <td>40.3</td>\n",
              "      <td>18.0</td>\n",
              "      <td>195.0</td>\n",
              "      <td>3250.0</td>\n",
              "    </tr>\n",
              "    <tr>\n",
              "      <th>4</th>\n",
              "      <td>36.7</td>\n",
              "      <td>19.3</td>\n",
              "      <td>193.0</td>\n",
              "      <td>3450.0</td>\n",
              "    </tr>\n",
              "    <tr>\n",
              "      <th>5</th>\n",
              "      <td>39.3</td>\n",
              "      <td>20.6</td>\n",
              "      <td>190.0</td>\n",
              "      <td>3650.0</td>\n",
              "    </tr>\n",
              "  </tbody>\n",
              "</table>\n",
              "</div>\n",
              "    <div class=\"colab-df-buttons\">\n",
              "\n",
              "  <div class=\"colab-df-container\">\n",
              "    <button class=\"colab-df-convert\" onclick=\"convertToInteractive('df-815865f1-159e-4c4c-95b0-54822181a6fc')\"\n",
              "            title=\"Convert this dataframe to an interactive table.\"\n",
              "            style=\"display:none;\">\n",
              "\n",
              "  <svg xmlns=\"http://www.w3.org/2000/svg\" height=\"24px\" viewBox=\"0 -960 960 960\">\n",
              "    <path d=\"M120-120v-720h720v720H120Zm60-500h600v-160H180v160Zm220 220h160v-160H400v160Zm0 220h160v-160H400v160ZM180-400h160v-160H180v160Zm440 0h160v-160H620v160ZM180-180h160v-160H180v160Zm440 0h160v-160H620v160Z\"/>\n",
              "  </svg>\n",
              "    </button>\n",
              "\n",
              "  <style>\n",
              "    .colab-df-container {\n",
              "      display:flex;\n",
              "      gap: 12px;\n",
              "    }\n",
              "\n",
              "    .colab-df-convert {\n",
              "      background-color: #E8F0FE;\n",
              "      border: none;\n",
              "      border-radius: 50%;\n",
              "      cursor: pointer;\n",
              "      display: none;\n",
              "      fill: #1967D2;\n",
              "      height: 32px;\n",
              "      padding: 0 0 0 0;\n",
              "      width: 32px;\n",
              "    }\n",
              "\n",
              "    .colab-df-convert:hover {\n",
              "      background-color: #E2EBFA;\n",
              "      box-shadow: 0px 1px 2px rgba(60, 64, 67, 0.3), 0px 1px 3px 1px rgba(60, 64, 67, 0.15);\n",
              "      fill: #174EA6;\n",
              "    }\n",
              "\n",
              "    .colab-df-buttons div {\n",
              "      margin-bottom: 4px;\n",
              "    }\n",
              "\n",
              "    [theme=dark] .colab-df-convert {\n",
              "      background-color: #3B4455;\n",
              "      fill: #D2E3FC;\n",
              "    }\n",
              "\n",
              "    [theme=dark] .colab-df-convert:hover {\n",
              "      background-color: #434B5C;\n",
              "      box-shadow: 0px 1px 3px 1px rgba(0, 0, 0, 0.15);\n",
              "      filter: drop-shadow(0px 1px 2px rgba(0, 0, 0, 0.3));\n",
              "      fill: #FFFFFF;\n",
              "    }\n",
              "  </style>\n",
              "\n",
              "    <script>\n",
              "      const buttonEl =\n",
              "        document.querySelector('#df-815865f1-159e-4c4c-95b0-54822181a6fc button.colab-df-convert');\n",
              "      buttonEl.style.display =\n",
              "        google.colab.kernel.accessAllowed ? 'block' : 'none';\n",
              "\n",
              "      async function convertToInteractive(key) {\n",
              "        const element = document.querySelector('#df-815865f1-159e-4c4c-95b0-54822181a6fc');\n",
              "        const dataTable =\n",
              "          await google.colab.kernel.invokeFunction('convertToInteractive',\n",
              "                                                    [key], {});\n",
              "        if (!dataTable) return;\n",
              "\n",
              "        const docLinkHtml = 'Like what you see? Visit the ' +\n",
              "          '<a target=\"_blank\" href=https://colab.research.google.com/notebooks/data_table.ipynb>data table notebook</a>'\n",
              "          + ' to learn more about interactive tables.';\n",
              "        element.innerHTML = '';\n",
              "        dataTable['output_type'] = 'display_data';\n",
              "        await google.colab.output.renderOutput(dataTable, element);\n",
              "        const docLink = document.createElement('div');\n",
              "        docLink.innerHTML = docLinkHtml;\n",
              "        element.appendChild(docLink);\n",
              "      }\n",
              "    </script>\n",
              "  </div>\n",
              "\n",
              "\n",
              "<div id=\"df-d5a2eb6a-7d0e-4ca5-8f88-54c6ba4143df\">\n",
              "  <button class=\"colab-df-quickchart\" onclick=\"quickchart('df-d5a2eb6a-7d0e-4ca5-8f88-54c6ba4143df')\"\n",
              "            title=\"Suggest charts\"\n",
              "            style=\"display:none;\">\n",
              "\n",
              "<svg xmlns=\"http://www.w3.org/2000/svg\" height=\"24px\"viewBox=\"0 0 24 24\"\n",
              "     width=\"24px\">\n",
              "    <g>\n",
              "        <path d=\"M19 3H5c-1.1 0-2 .9-2 2v14c0 1.1.9 2 2 2h14c1.1 0 2-.9 2-2V5c0-1.1-.9-2-2-2zM9 17H7v-7h2v7zm4 0h-2V7h2v10zm4 0h-2v-4h2v4z\"/>\n",
              "    </g>\n",
              "</svg>\n",
              "  </button>\n",
              "\n",
              "<style>\n",
              "  .colab-df-quickchart {\n",
              "      --bg-color: #E8F0FE;\n",
              "      --fill-color: #1967D2;\n",
              "      --hover-bg-color: #E2EBFA;\n",
              "      --hover-fill-color: #174EA6;\n",
              "      --disabled-fill-color: #AAA;\n",
              "      --disabled-bg-color: #DDD;\n",
              "  }\n",
              "\n",
              "  [theme=dark] .colab-df-quickchart {\n",
              "      --bg-color: #3B4455;\n",
              "      --fill-color: #D2E3FC;\n",
              "      --hover-bg-color: #434B5C;\n",
              "      --hover-fill-color: #FFFFFF;\n",
              "      --disabled-bg-color: #3B4455;\n",
              "      --disabled-fill-color: #666;\n",
              "  }\n",
              "\n",
              "  .colab-df-quickchart {\n",
              "    background-color: var(--bg-color);\n",
              "    border: none;\n",
              "    border-radius: 50%;\n",
              "    cursor: pointer;\n",
              "    display: none;\n",
              "    fill: var(--fill-color);\n",
              "    height: 32px;\n",
              "    padding: 0;\n",
              "    width: 32px;\n",
              "  }\n",
              "\n",
              "  .colab-df-quickchart:hover {\n",
              "    background-color: var(--hover-bg-color);\n",
              "    box-shadow: 0 1px 2px rgba(60, 64, 67, 0.3), 0 1px 3px 1px rgba(60, 64, 67, 0.15);\n",
              "    fill: var(--button-hover-fill-color);\n",
              "  }\n",
              "\n",
              "  .colab-df-quickchart-complete:disabled,\n",
              "  .colab-df-quickchart-complete:disabled:hover {\n",
              "    background-color: var(--disabled-bg-color);\n",
              "    fill: var(--disabled-fill-color);\n",
              "    box-shadow: none;\n",
              "  }\n",
              "\n",
              "  .colab-df-spinner {\n",
              "    border: 2px solid var(--fill-color);\n",
              "    border-color: transparent;\n",
              "    border-bottom-color: var(--fill-color);\n",
              "    animation:\n",
              "      spin 1s steps(1) infinite;\n",
              "  }\n",
              "\n",
              "  @keyframes spin {\n",
              "    0% {\n",
              "      border-color: transparent;\n",
              "      border-bottom-color: var(--fill-color);\n",
              "      border-left-color: var(--fill-color);\n",
              "    }\n",
              "    20% {\n",
              "      border-color: transparent;\n",
              "      border-left-color: var(--fill-color);\n",
              "      border-top-color: var(--fill-color);\n",
              "    }\n",
              "    30% {\n",
              "      border-color: transparent;\n",
              "      border-left-color: var(--fill-color);\n",
              "      border-top-color: var(--fill-color);\n",
              "      border-right-color: var(--fill-color);\n",
              "    }\n",
              "    40% {\n",
              "      border-color: transparent;\n",
              "      border-right-color: var(--fill-color);\n",
              "      border-top-color: var(--fill-color);\n",
              "    }\n",
              "    60% {\n",
              "      border-color: transparent;\n",
              "      border-right-color: var(--fill-color);\n",
              "    }\n",
              "    80% {\n",
              "      border-color: transparent;\n",
              "      border-right-color: var(--fill-color);\n",
              "      border-bottom-color: var(--fill-color);\n",
              "    }\n",
              "    90% {\n",
              "      border-color: transparent;\n",
              "      border-bottom-color: var(--fill-color);\n",
              "    }\n",
              "  }\n",
              "</style>\n",
              "\n",
              "  <script>\n",
              "    async function quickchart(key) {\n",
              "      const quickchartButtonEl =\n",
              "        document.querySelector('#' + key + ' button');\n",
              "      quickchartButtonEl.disabled = true;  // To prevent multiple clicks.\n",
              "      quickchartButtonEl.classList.add('colab-df-spinner');\n",
              "      try {\n",
              "        const charts = await google.colab.kernel.invokeFunction(\n",
              "            'suggestCharts', [key], {});\n",
              "      } catch (error) {\n",
              "        console.error('Error during call to suggestCharts:', error);\n",
              "      }\n",
              "      quickchartButtonEl.classList.remove('colab-df-spinner');\n",
              "      quickchartButtonEl.classList.add('colab-df-quickchart-complete');\n",
              "    }\n",
              "    (() => {\n",
              "      let quickchartButtonEl =\n",
              "        document.querySelector('#df-d5a2eb6a-7d0e-4ca5-8f88-54c6ba4143df button');\n",
              "      quickchartButtonEl.style.display =\n",
              "        google.colab.kernel.accessAllowed ? 'block' : 'none';\n",
              "    })();\n",
              "  </script>\n",
              "</div>\n",
              "\n",
              "    </div>\n",
              "  </div>\n"
            ],
            "application/vnd.google.colaboratory.intrinsic+json": {
              "type": "dataframe",
              "summary": "{\n  \"name\": \"#df\",\n  \"rows\": 5,\n  \"fields\": [\n    {\n      \"column\": \"bill_length_mm\",\n      \"properties\": {\n        \"dtype\": \"number\",\n        \"std\": 1.3535139452550884,\n        \"min\": 36.7,\n        \"max\": 40.3,\n        \"num_unique_values\": 5,\n        \"samples\": [\n          39.5,\n          39.3,\n          40.3\n        ],\n        \"semantic_type\": \"\",\n        \"description\": \"\"\n      }\n    },\n    {\n      \"column\": \"bill_depth_mm\",\n      \"properties\": {\n        \"dtype\": \"number\",\n        \"std\": 1.234908903522848,\n        \"min\": 17.4,\n        \"max\": 20.6,\n        \"num_unique_values\": 5,\n        \"samples\": [\n          17.4,\n          20.6,\n          18.0\n        ],\n        \"semantic_type\": \"\",\n        \"description\": \"\"\n      }\n    },\n    {\n      \"column\": \"flipper_length_mm\",\n      \"properties\": {\n        \"dtype\": \"number\",\n        \"std\": 5.612486080160912,\n        \"min\": 181.0,\n        \"max\": 195.0,\n        \"num_unique_values\": 5,\n        \"samples\": [\n          186.0,\n          190.0,\n          195.0\n        ],\n        \"semantic_type\": \"\",\n        \"description\": \"\"\n      }\n    },\n    {\n      \"column\": \"body_mass_g\",\n      \"properties\": {\n        \"dtype\": \"number\",\n        \"std\": 228.0350850198276,\n        \"min\": 3250.0,\n        \"max\": 3800.0,\n        \"num_unique_values\": 5,\n        \"samples\": [\n          3800.0,\n          3650.0,\n          3250.0\n        ],\n        \"semantic_type\": \"\",\n        \"description\": \"\"\n      }\n    }\n  ]\n}"
            }
          },
          "metadata": {},
          "execution_count": 6
        }
      ]
    },
    {
      "cell_type": "code",
      "source": [
        "# Create a varaible that lists each column name (in order)\n",
        "feature_names = df.columns.to_list()\n",
        "\n",
        "####### TEMPLATE #######\n",
        "# create column list and assign it to the variable feature_names\n",
        "#feature_names ="
      ],
      "metadata": {
        "id": "RiZFiIQ8EqXA"
      },
      "execution_count": 7,
      "outputs": []
    },
    {
      "cell_type": "code",
      "source": [
        "# Pandas df to numpy array\n",
        "\n",
        "X = df[['bill_length_mm', 'bill_depth_mm',\n",
        "        'flipper_length_mm', 'body_mass_g']].to_numpy()\n",
        "\n",
        "\n",
        "####### TEMPLATE #######\n",
        "# turn the pandas df into a numpy array called X\n",
        "#X = _____"
      ],
      "metadata": {
        "id": "e2NXhX_BShUZ"
      },
      "execution_count": 8,
      "outputs": []
    },
    {
      "cell_type": "markdown",
      "source": [
        "# Lloyd's Algorithm (K-Means Clustering Algorithm)\n",
        "### Code from Chapter 2.3 in the book"
      ],
      "metadata": {
        "id": "VLj8BMUDTPh2"
      }
    },
    {
      "cell_type": "markdown",
      "source": [
        "### Supervised vs Unsupervised Learning\n",
        "K-means clustering is an unsupervised learning method. Supervised learning uses the labels during training, unsupervised does not have access to the labels during training."
      ],
      "metadata": {
        "id": "a4vLK77dyk86"
      }
    },
    {
      "cell_type": "code",
      "source": [
        "def opt_reps(X, k, assign):\n",
        "    (n, d) = X.shape\n",
        "    reps = np.zeros((k, d))\n",
        "    for i in range(k):\n",
        "        in_i = [j for j in range(n) if assign[j] == i]\n",
        "        reps[i,:] = np.sum(X[in_i,:],axis=0) / len(in_i)\n",
        "    return reps\n",
        "\n",
        "def opt_clust(X, k, reps):\n",
        "    (n, d) = X.shape\n",
        "    dist = np.zeros(n)\n",
        "    assign = np.zeros(n, dtype=int)\n",
        "    for j in range(n):\n",
        "        dist_to_i = np.array([LA.norm(X[j,:] - reps[i,:]) for i in range(k)])\n",
        "        assign[j] = np.argmin(dist_to_i)\n",
        "        dist[j] = dist_to_i[assign[j]]\n",
        "    G = np.sum(dist ** 2)\n",
        "    print(G)\n",
        "    return assign\n",
        "\n",
        "def kmeans(rng, X, k, maxiter=5):\n",
        "    (n, d) = X.shape\n",
        "    assign = rng.integers(0,k,n)\n",
        "    reps = np.zeros((k, d), dtype=int)\n",
        "    for iter in range(maxiter):\n",
        "        reps = opt_reps(X, k, assign)\n",
        "        assign = opt_clust(X, k, reps)\n",
        "    return assign"
      ],
      "metadata": {
        "id": "US1og9l3Scsk"
      },
      "execution_count": 14,
      "outputs": []
    },
    {
      "cell_type": "code",
      "source": [
        "# Plot two variables\n",
        "plt.scatter(X[:,1], X[:,3], s=10)\n",
        "plt.xlabel('bill_depth_mm')\n",
        "plt.ylabel('body_mass_g')\n",
        "plt.show()"
      ],
      "metadata": {
        "id": "NOwkdHKPSn8d",
        "colab": {
          "base_uri": "https://localhost:8080/",
          "height": 450
        },
        "outputId": "f445250e-d005-459e-d9d2-809e12af8876"
      },
      "execution_count": 13,
      "outputs": [
        {
          "output_type": "display_data",
          "data": {
            "text/plain": [
              "<Figure size 640x480 with 1 Axes>"
            ],
            "image/png": "[encoded data removed]"
          },
          "metadata": {}
        }
      ]
    },
    {
      "cell_type": "code",
      "source": [
        "# Plot with two different variables (change axis titles accordingly)\n",
        "\n"
      ],
      "metadata": {
        "id": "VoHprwMnC8RL"
      },
      "execution_count": null,
      "outputs": []
    },
    {
      "cell_type": "markdown",
      "source": [
        "Knowledge Check: Why do we want to standardize the vectors when we are using k-means clustering? (Hint: Does distance matter?)"
      ],
      "metadata": {
        "id": "Z4g_m2zsStIh"
      }
    },
    {
      "cell_type": "code",
      "source": [
        "mean = np.mean(X, axis=0)  # Compute mean for each column\n",
        "std = np.std(X, axis=0)  # Compute standard deviation for each column\n",
        "X = (X - mean) / std # Standardize each column\n",
        "print(mean,std)\n",
        "\n",
        "\n",
        "####### TEMPLATE #######\n",
        "#mean = _______   # Compute mean for each column\n",
        "#std = _______  # Compute standard deviation for each column\n",
        "#X = _______  # Standardize each column\n",
        "#print(mean,std)"
      ],
      "metadata": {
        "id": "MlZd8k-dSqJm",
        "colab": {
          "base_uri": "https://localhost:8080/"
        },
        "outputId": "1af19f72-9068-49bc-8972-e29202d4d829"
      },
      "execution_count": 11,
      "outputs": [
        {
          "output_type": "stream",
          "name": "stdout",
          "text": [
            "[  43.92192982   17.15116959  200.91520468 4201.75438596] [  5.45159602   1.97190392  14.04114057 800.78122924]\n"
          ]
        }
      ]
    },
    {
      "cell_type": "markdown",
      "source": [
        "# 2 Clusters"
      ],
      "metadata": {
        "id": "tyTbjEJqOWHJ"
      }
    },
    {
      "cell_type": "code",
      "source": [
        "# Assign clusters\n",
        "seed = 535\n",
        "rng = np.random.default_rng(seed)\n",
        "assign = kmeans(rng, X, 2)\n",
        "\n",
        "\n",
        "####### TEMPLATE #######\n",
        "#Check section 1.3.2. for how to assign clusters - do for k=2\n",
        "#assign = _______"
      ],
      "metadata": {
        "id": "rFWT4uT2Ssk6",
        "colab": {
          "base_uri": "https://localhost:8080/"
        },
        "outputId": "71bcd6f6-9acc-42e8-eea6-bbf45299623b"
      },
      "execution_count": 12,
      "outputs": [
        {
          "output_type": "stream",
          "name": "stdout",
          "text": [
            "1337.3535017777483\n",
            "578.4819440115109\n",
            "569.5843202262888\n",
            "565.821904255223\n",
            "565.7076453796292\n"
          ]
        }
      ]
    },
    {
      "cell_type": "code",
      "source": [
        "# Color plot with centroid assignment from algorithm\n",
        "plt.scatter(X[:,1], X[:,3], c=assign, s=10)\n",
        "plt.xlabel('bill_depth_mm (standardized)')\n",
        "plt.ylabel('body_mass_g (standardized)')\n",
        "plt.show()"
      ],
      "metadata": {
        "id": "SOoy6-RHS2QX"
      },
      "execution_count": null,
      "outputs": []
    },
    {
      "cell_type": "markdown",
      "source": [
        "# 6 Clusters"
      ],
      "metadata": {
        "id": "kvvYC-AyObKE"
      }
    },
    {
      "cell_type": "code",
      "source": [
        "# Assign clusters\n",
        "assign = kmeans(rng, X, 6)\n",
        "\n",
        "\n",
        "####### TEMPLATE #######\n",
        "#Check section 1.3.2. for how to assign clusters - do for k=6\n",
        "#assign = _______"
      ],
      "metadata": {
        "id": "ruGc1pmCS4Z0"
      },
      "execution_count": null,
      "outputs": []
    },
    {
      "cell_type": "code",
      "source": [
        "# Notice how the clustering/coloring changes with 6 clusters instead of 2\n",
        "plt.scatter(X[:,1], X[:,3], c=assign, s=10)\n",
        "plt.xlabel('bill_length_mm (standardized)')\n",
        "plt.ylabel('body_mass_g (standardized)')\n",
        "plt.show()"
      ],
      "metadata": {
        "id": "-gyj4Ea9S6Lz",
        "colab": {
          "base_uri": "https://localhost:8080/",
          "height": 207
        },
        "outputId": "d92958fc-d490-4464-f4f6-ac7621f45003"
      },
      "execution_count": 2,
      "outputs": [
        {
          "output_type": "error",
          "ename": "NameError",
          "evalue": "name 'plt' is not defined",
          "traceback": [
            "\u001b[0;31m---------------------------------------------------------------------------\u001b[0m",
            "\u001b[0;31mNameError\u001b[0m                                 Traceback (most recent call last)",
            "\u001b[0;32m<ipython-input-2-919ad596f319>\u001b[0m in \u001b[0;36m<cell line: 0>\u001b[0;34m()\u001b[0m\n\u001b[1;32m      1\u001b[0m \u001b[0;31m# Notice how the clustering/coloring changes with 6 clusters instead of 2\u001b[0m\u001b[0;34m\u001b[0m\u001b[0;34m\u001b[0m\u001b[0m\n\u001b[0;32m----> 2\u001b[0;31m \u001b[0mplt\u001b[0m\u001b[0;34m.\u001b[0m\u001b[0mscatter\u001b[0m\u001b[0;34m(\u001b[0m\u001b[0mX\u001b[0m\u001b[0;34m[\u001b[0m\u001b[0;34m:\u001b[0m\u001b[0;34m,\u001b[0m\u001b[0;36m1\u001b[0m\u001b[0;34m]\u001b[0m\u001b[0;34m,\u001b[0m \u001b[0mX\u001b[0m\u001b[0;34m[\u001b[0m\u001b[0;34m:\u001b[0m\u001b[0;34m,\u001b[0m\u001b[0;36m3\u001b[0m\u001b[0;34m]\u001b[0m\u001b[0;34m,\u001b[0m \u001b[0mc\u001b[0m\u001b[0;34m=\u001b[0m\u001b[0massign\u001b[0m\u001b[0;34m,\u001b[0m \u001b[0ms\u001b[0m\u001b[0;34m=\u001b[0m\u001b[0;36m10\u001b[0m\u001b[0;34m)\u001b[0m\u001b[0;34m\u001b[0m\u001b[0;34m\u001b[0m\u001b[0m\n\u001b[0m\u001b[1;32m      3\u001b[0m \u001b[0mplt\u001b[0m\u001b[0;34m.\u001b[0m\u001b[0mxlabel\u001b[0m\u001b[0;34m(\u001b[0m\u001b[0;34m'bill_length_mm (standardized)'\u001b[0m\u001b[0;34m)\u001b[0m\u001b[0;34m\u001b[0m\u001b[0;34m\u001b[0m\u001b[0m\n\u001b[1;32m      4\u001b[0m \u001b[0mplt\u001b[0m\u001b[0;34m.\u001b[0m\u001b[0mylabel\u001b[0m\u001b[0;34m(\u001b[0m\u001b[0;34m'body_mass_g (standardized)'\u001b[0m\u001b[0;34m)\u001b[0m\u001b[0;34m\u001b[0m\u001b[0;34m\u001b[0m\u001b[0m\n\u001b[1;32m      5\u001b[0m \u001b[0mplt\u001b[0m\u001b[0;34m.\u001b[0m\u001b[0mshow\u001b[0m\u001b[0;34m(\u001b[0m\u001b[0;34m)\u001b[0m\u001b[0;34m\u001b[0m\u001b[0;34m\u001b[0m\u001b[0m\n",
            "\u001b[0;31mNameError\u001b[0m: name 'plt' is not defined"
          ]
        }
      ]
    },
    {
      "cell_type": "code",
      "source": [
        "# Plot a different variable on x\n",
        "plt.scatter(X[:,0], X[:,3], c=assign, s=10)\n",
        "plt.xlabel('bill_length_mm (standardized)')\n",
        "plt.ylabel('body_mass_g (standardized)')\n",
        "plt.show()"
      ],
      "metadata": {
        "colab": {
          "base_uri": "https://localhost:8080/",
          "height": 207
        },
        "id": "eUjmwvbzESML",
        "outputId": "368935dc-f800-4090-84eb-abb2f7b494c1"
      },
      "execution_count": 3,
      "outputs": [
        {
          "output_type": "error",
          "ename": "NameError",
          "evalue": "name 'plt' is not defined",
          "traceback": [
            "\u001b[0;31m---------------------------------------------------------------------------\u001b[0m",
            "\u001b[0;31mNameError\u001b[0m                                 Traceback (most recent call last)",
            "\u001b[0;32m<ipython-input-3-8ba705bbd81d>\u001b[0m in \u001b[0;36m<cell line: 0>\u001b[0;34m()\u001b[0m\n\u001b[1;32m      1\u001b[0m \u001b[0;31m# Plot a different variable on x\u001b[0m\u001b[0;34m\u001b[0m\u001b[0;34m\u001b[0m\u001b[0m\n\u001b[0;32m----> 2\u001b[0;31m \u001b[0mplt\u001b[0m\u001b[0;34m.\u001b[0m\u001b[0mscatter\u001b[0m\u001b[0;34m(\u001b[0m\u001b[0mX\u001b[0m\u001b[0;34m[\u001b[0m\u001b[0;34m:\u001b[0m\u001b[0;34m,\u001b[0m\u001b[0;36m0\u001b[0m\u001b[0;34m]\u001b[0m\u001b[0;34m,\u001b[0m \u001b[0mX\u001b[0m\u001b[0;34m[\u001b[0m\u001b[0;34m:\u001b[0m\u001b[0;34m,\u001b[0m\u001b[0;36m3\u001b[0m\u001b[0;34m]\u001b[0m\u001b[0;34m,\u001b[0m \u001b[0mc\u001b[0m\u001b[0;34m=\u001b[0m\u001b[0massign\u001b[0m\u001b[0;34m,\u001b[0m \u001b[0ms\u001b[0m\u001b[0;34m=\u001b[0m\u001b[0;36m10\u001b[0m\u001b[0;34m)\u001b[0m\u001b[0;34m\u001b[0m\u001b[0;34m\u001b[0m\u001b[0m\n\u001b[0m\u001b[1;32m      3\u001b[0m \u001b[0mplt\u001b[0m\u001b[0;34m.\u001b[0m\u001b[0mxlabel\u001b[0m\u001b[0;34m(\u001b[0m\u001b[0;34m'bill_length_mm (standardized)'\u001b[0m\u001b[0;34m)\u001b[0m\u001b[0;34m\u001b[0m\u001b[0;34m\u001b[0m\u001b[0m\n\u001b[1;32m      4\u001b[0m \u001b[0mplt\u001b[0m\u001b[0;34m.\u001b[0m\u001b[0mylabel\u001b[0m\u001b[0;34m(\u001b[0m\u001b[0;34m'body_mass_g (standardized)'\u001b[0m\u001b[0;34m)\u001b[0m\u001b[0;34m\u001b[0m\u001b[0;34m\u001b[0m\u001b[0m\n\u001b[1;32m      5\u001b[0m \u001b[0mplt\u001b[0m\u001b[0;34m.\u001b[0m\u001b[0mshow\u001b[0m\u001b[0;34m(\u001b[0m\u001b[0;34m)\u001b[0m\u001b[0;34m\u001b[0m\u001b[0;34m\u001b[0m\u001b[0m\n",
            "\u001b[0;31mNameError\u001b[0m: name 'plt' is not defined"
          ]
        }
      ]
    },
    {
      "cell_type": "markdown",
      "source": [
        "# View in 3D"
      ],
      "metadata": {
        "id": "k4QL4D37FDoM"
      }
    },
    {
      "cell_type": "code",
      "source": [
        "# Run this code to produce 3D plots of your features from different angles - you can play around with which 3 columns are visualized and k if you like\n",
        "\n",
        "def my_scatter(data, colors, labels=feature_names, **kwargs):\n",
        "    title = kwargs.pop('title', '')\n",
        "    if title:\n",
        "        title += ': '\n",
        "\n",
        "    fig = plt.figure(figsize=(18, 6))  # Adjusted figure size to accommodate 3 plots\n",
        "\n",
        "    if np.max(colors) != 0:\n",
        "        normalized_colors = colors/np.max(colors)\n",
        "    else:\n",
        "        normalized_colors = colors\n",
        "    # First subplot: original viewing angle\n",
        "    ax1 = fig.add_subplot(132, projection='3d', xlabel=labels[0], ylabel=labels[1], zlabel=labels[2])\n",
        "    ax1.scatter(data[:, 0], data[:, 1], data[:, 2], c=normalized_colors, s=20, cmap='Accent') # note it only shows the first 3 columns of the data\n",
        "    ax1.view_init(elev=30, azim=-45)  # Rotate by another 90 degrees (180 degrees total)\n",
        "    plt.title(f\"{title}View from the above-center\")\n",
        "\n",
        "    # Second subplot: rotated view by 90 degrees\n",
        "    ax2 = fig.add_subplot(133, projection='3d', xlabel=labels[0], ylabel=labels[1], zlabel=labels[2])\n",
        "    ax2.scatter(data[:, 0], data[:, 1], data[:, 2], c=normalized_colors, s=20, cmap='Accent')\n",
        "    ax2.view_init(elev=30, azim=ax1.azim+90)  # Rotate by 90 degrees\n",
        "    plt.title(f\"{title}View from the above-right\")\n",
        "\n",
        "    # Third subplot: rotated view by 90 degrees in the opposite direction\n",
        "    ax3 = fig.add_subplot(131, projection='3d', xlabel=labels[0], ylabel=labels[1], zlabel=labels[2])\n",
        "    ax3.scatter(data[:, 0], data[:, 1], data[:, 2], c=normalized_colors, s=20, cmap='Accent')\n",
        "    ax3.view_init(elev=30, azim=ax1.azim-90)  # Rotate by another 90 degrees\n",
        "    plt.title(f\"{title}View from the above-left\")\n",
        "\n",
        "    # Display the plot\n",
        "    plt.tight_layout()\n",
        "    plt.show()\n",
        "\n",
        "    return ax1\n",
        "\n",
        "# Run function\n",
        "my_scatter(X, assign, title=\"Species\");"
      ],
      "metadata": {
        "id": "ZbJrDTKnCybB"
      },
      "execution_count": null,
      "outputs": []
    },
    {
      "cell_type": "markdown",
      "source": [
        "# Elbow Plots"
      ],
      "metadata": {
        "id": "yU5xu8dRKMBK"
      }
    },
    {
      "cell_type": "markdown",
      "source": [
        "An elbow plot is a graphical tool used to determine the optimal number of clusters in a clustering algorithm, such as K-means. It helps identify the point where adding more clusters no longer significantly improves the clustering performance (because we want clusters that are meaningful and interpretable). This is referred to as the \"elbow point.\"\n",
        "\n",
        "### How Does It Work?\n",
        "Metric of Interest: The plot displays a metric on the y-axis that measures the clustering performance. For K-means, this metric is usually the sum of squared distances (SSD), also known as \"inertia.\" This measures how tightly the data points are grouped within each cluster.\n",
        "\n",
        "**Number of Clusters:** The x-axis represents the number of clusters (𝑘).\n",
        "\n",
        "**Trend:** As the number of clusters increases:\n",
        "\n",
        "The SSD decreases because each cluster becomes smaller, leading to points being closer to their cluster centroids.\n",
        "Initially, this decrease is rapid because splitting data into more clusters significantly reduces the distances.\n",
        "After a certain point, the decrease slows down, showing diminishing returns.\n",
        "\n",
        "\n",
        "### The Elbow Point\n",
        "The elbow point is where the SSD curve starts to flatten. This indicates the optimal number of clusters:\n",
        "\n",
        "Adding more clusters beyond this point does not significantly improve the clustering.\n",
        "It balances between underfitting (too few clusters) and overfitting (too many clusters)."
      ],
      "metadata": {
        "id": "AnmiqjlNJviA"
      }
    },
    {
      "cell_type": "markdown",
      "source": [
        "![image.png](data:image/png;base64,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)"
      ],
      "metadata": {
        "id": "4y2Yw-A5Jf7k"
      }
    },
    {
      "cell_type": "markdown",
      "source": [
        "You will be using this method in your Project 1 and comparing it to the silhouette score method for determining the best k"
      ],
      "metadata": {
        "id": "5w7SWvOGKdYn"
      }
    }
  ]
}